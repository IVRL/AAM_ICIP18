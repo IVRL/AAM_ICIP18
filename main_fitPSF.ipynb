{
 "cells": [
  {
   "cell_type": "markdown",
   "metadata": {},
   "source": [
    "# AAM Demo Script\n",
    "\n",
    "\n",
    "## Initialization and loading data"
   ]
  },
  {
   "cell_type": "code",
   "execution_count": null,
   "metadata": {},
   "outputs": [],
   "source": [
    "import numpy as np\n",
    "import scipy.io as sio\n",
    "import scipy\n",
    "import matplotlib.pyplot as plt\n",
    "import math\n",
    "\n",
    "IMG_SET_ID = 4 # 7\n",
    "path = \"data/\"\n",
    "dist_name = path + \"distances_\" + str(IMG_SET_ID) + \".mat\"\n",
    "PSF_name  = path + \"GaussStd2Color_\" + str(IMG_SET_ID) + \".mat\"\n",
    "PSF_NIR_name = path + \"GaussStd2Nir_\" + str(IMG_SET_ID) + \".mat\"\n",
    "\n",
    "mat_dist = sio.loadmat(dist_name)\n",
    "mat_PSF = sio.loadmat(PSF_name)\n",
    "mat_PSF_NIR = sio.loadmat(PSF_NIR_name)\n",
    "\n",
    "distances = mat_dist['distancesCol']\n",
    "PSF       = mat_PSF['GaussStd2Color']\n",
    "PSF_NIR   = np.squeeze(mat_PSF_NIR['GaussStd2Nir'])\n",
    "PSF[:,3] = PSF_NIR\n",
    "\n",
    "assert distances.shape[0] == PSF.shape[0]\n",
    "assert distances.shape[0] == PSF_NIR.shape[0]\n",
    "print('loaded experimental data from {} distances and {} channels.'.format(*PSF.shape))\n",
    "\n",
    "#distances2 = np.squeeze(distances)\n",
    "#diff_dist = [x - distances2[i - 1] for i, x in enumerate(distances2) if i > 0]\n",
    "#b = np.zeros((50, 2))\n",
    "#b[:,0] = diff_dist\n",
    "#b[:,1] = range(len(diff_dist))\n",
    "#print(b)"
   ]
  },
  {
   "cell_type": "markdown",
   "metadata": {},
   "source": [
    "## Resample data uniformly. "
   ]
  },
  {
   "cell_type": "code",
   "execution_count": null,
   "metadata": {},
   "outputs": [],
   "source": [
    "from scipy.interpolate import interp1d\n",
    "\n",
    "num_samples = 50\n",
    "num_channels = PSF.shape[1]\n",
    "\n",
    "distances_uniform = np.linspace(distances[0], distances[-1], num=num_samples, endpoint=True)\n",
    "PSF_uniform = np.empty((num_samples, num_channels))    \n",
    "for i in range(num_channels):\n",
    "    x = np.squeeze(distances)\n",
    "    y = PSF[:,i]\n",
    "    f = interp1d(x, y, kind='cubic')\n",
    "    PSF_uniform[:, i] = f(distances_uniform)\n",
    "    \n",
    "plt.plot(distances, PSF, '*') \n",
    "plt.ylabel('Nonuniform Experimental PSF')\n",
    "plt.show()\n",
    "\n",
    "plt.figure()\n",
    "plt.plot(distances_uniform, PSF_uniform, '*')\n",
    "plt.ylabel('Interpolated PSF')\n",
    "plt.show()"
   ]
  },
  {
   "cell_type": "code",
   "execution_count": null,
   "metadata": {},
   "outputs": [],
   "source": [
    "if IMG_SET_ID == 4:\n",
    "    INDICES_4 = np.array([-1, 0, 1, 2, 3, 4, 5, 6, 7, 9, 13, 17, 19, 20, 21, 22, 23, 24, 25, 27, 31, 35, 37, 38, 39, 40, 41, 42, 43, 44, 45, 46, 47, 48, 49])\n",
    "    INDICES_4 += 1\n",
    "    PSF_uniform = np.zeros((len(INDICES_4),4))\n",
    "    distances_uniform = np.zeros((len(INDICES_4),1))\n",
    "    idx_uniform = 0\n",
    "    for idx in range(len(INDICES_4)):\n",
    "        PSF_uniform[idx,:] = PSF[ INDICES_4[idx], : ]\n",
    "        distances_uniform[idx] = distances[ INDICES_4[idx] ]\n",
    "\n",
    "if IMG_SET_ID == 6 or IMG_SET_ID == 7:\n",
    "    PSF_uniform = PSF\n",
    "    distances_uniform = distances\n",
    "\n",
    "plt.figure()\n",
    "plt.plot(distances_uniform_old, PSF_uniform_old, '*')\n",
    "plt.ylabel('Manual resampled PSF')\n",
    "plt.show()"
   ]
  },
  {
   "cell_type": "code",
   "execution_count": null,
   "metadata": {},
   "outputs": [],
   "source": [
    "# Polynomial fitting each curve\n",
    "x = np.squeeze(0.001*distances_uniform)\n",
    "degree = 4\n",
    "num_colors = 3\n",
    "#polyParams = np.zeros((N,deg+1))\n",
    "\n",
    "polyParams = np.polyfit(x, PSF_uniform, degree).T\n",
    "print('Fitted {} channels with {}-1 degree polynoms.'.format(*polyParams.shape))"
   ]
  },
  {
   "cell_type": "code",
   "execution_count": null,
   "metadata": {},
   "outputs": [],
   "source": [
    "# Finding x0, focal distance of each color channel.\n",
    "x0 = np.zeros(num_colors)\n",
    "for channelIdx in range(num_colors):\n",
    "    f = np.poly1d( polyParams[channelIdx, :] )\n",
    "    result = scipy.optimize.minimize_scalar(f, bounds=(x[0], x[-1]), method='bounded')\n",
    "    x0[channelIdx] = result.x\n",
    "\n",
    "print(x0)"
   ]
  },
  {
   "cell_type": "code",
   "execution_count": null,
   "metadata": {},
   "outputs": [],
   "source": [
    "# Compute c_ij & d_ij\n",
    "\n",
    "num_pairs = int(0.5*num_colors*(num_colors-1))\n",
    "c_ij = np.zeros((num_pairs, degree+1))\n",
    "d = np.zeros((num_pairs, 2*degree+1))\n",
    "duo = 0 #corresponds to ij pairs in vectorized form\n",
    "for i in range(num_colors):\n",
    "    for j in range(i+1,num_colors):\n",
    "        polydiff = polyParams[i, :] - polyParams[j, :]\n",
    "        dtest = np.polymul(polydiff, polydiff)\n",
    "        #c_ij[duo, :] = polyParams[i, :] - polyParams[j, :]\n",
    "        #for k in range(2*degree+1):\n",
    "        #    d[duo, k] = 0\n",
    "        #    for u in range(degree+1):\n",
    "        #        for v in range(degree+1):\n",
    "        #            if u+v == k:\n",
    "        #                d[duo, k] += c_ij[duo, u] * c_ij[duo, v]\n",
    "        #print(d[duo] - dtest)\n",
    "        d[duo] = dtest\n",
    "        duo += 1"
   ]
  },
  {
   "cell_type": "code",
   "execution_count": null,
   "metadata": {},
   "outputs": [],
   "source": [
    "# Compute the AAM for varying alpha\n",
    "alphaLIST = np.linspace(0.2, 0.5, 50)\n",
    "AAM = np.zeros(len(alphaLIST))\n",
    "\n",
    "# B_ij  RG   RB   Rnum_colors   GB   Gnum_colors   Bnum_colors\n",
    "B_ijs = [0.2, 0.3, 0.4, 0.2, 0.5, 0.6]\n",
    "B_ijs = [1., 1., 1., 1., 1., 1.]\n",
    "if num_colors == 3:\n",
    "    # B_ij  RG   RB   GB\n",
    "    B_ijs = [0.2, 0.3, 0.2]\n",
    "    B_ijs = [1., 1., 1.]\n",
    "\n",
    "#def compute_AAM(alpha, )\n",
    "\n",
    "for alphaIdx, alpha in enumerate(alphaLIST):\n",
    "    # Computing delta_alpha bar\n",
    "    duo = 0 #corresponds to ij pairs in vectorized form\n",
    "    for i in range(num_colors):\n",
    "        for j in range(i+1,num_colors):\n",
    "            a_ij = (1 - alpha) * min(x0[i], x0[j])\n",
    "            b_ij = (1 + alpha) * max(x0[i], x0[j])\n",
    "\n",
    "            B_ij = B_ijs[duo] \n",
    "            #B_ij = max(bandwidths[i,1], bandwidths[j,1]) - min(bandwidths[i,0], bandwidths[j,0])\n",
    "            delta = 0\n",
    "            for k in range(1, 2*degree+1+1):\n",
    "                delta += d[duo, k-1] * (b_ij**k - a_ij**k) / k\n",
    "\n",
    "            AAM[alphaIdx] += B_ij / (b_ij - a_ij) * delta\n",
    "            duo += 1\n",
    "\n",
    "AAM /= num_pairs\n",
    "\n",
    "plt.plot(alphaLIST, AAM, 'r^', label=\"y reconst\")\n",
    "plt.ylabel('AAM')\n",
    "plt.xlabel('alpha')\n",
    "plt.show()\n",
    "\n",
    "indices = [0, 25, 49]\n",
    "print([alphaLIST[0], AAM[0]])\n",
    "print([alphaLIST[25], AAM[25]])\n",
    "print([alphaLIST[49], AAM[49]])"
   ]
  },
  {
   "cell_type": "code",
   "execution_count": null,
   "metadata": {},
   "outputs": [],
   "source": []
  },
  {
   "cell_type": "code",
   "execution_count": null,
   "metadata": {},
   "outputs": [],
   "source": []
  },
  {
   "cell_type": "code",
   "execution_count": null,
   "metadata": {},
   "outputs": [],
   "source": []
  },
  {
   "cell_type": "code",
   "execution_count": null,
   "metadata": {},
   "outputs": [],
   "source": []
  }
 ],
 "metadata": {
  "kernelspec": {
   "display_name": "Python 3",
   "language": "python",
   "name": "python3"
  },
  "language_info": {
   "codemirror_mode": {
    "name": "ipython",
    "version": 3
   },
   "file_extension": ".py",
   "mimetype": "text/x-python",
   "name": "python",
   "nbconvert_exporter": "python",
   "pygments_lexer": "ipython3",
   "version": "3.5.2"
  },
  "toc": {
   "nav_menu": {
    "height": "66px",
    "width": "252px"
   },
   "navigate_menu": true,
   "number_sections": true,
   "sideBar": true,
   "threshold": 4,
   "toc_cell": false,
   "toc_section_display": "block",
   "toc_window_display": true
  }
 },
 "nbformat": 4,
 "nbformat_minor": 2
}
