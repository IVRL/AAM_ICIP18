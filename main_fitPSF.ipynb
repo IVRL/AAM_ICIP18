{
 "cells": [
  {
   "cell_type": "markdown",
   "metadata": {},
   "source": [
    "# AAM Demo Script\n",
    "\n",
    "\n",
    "## Initialization and loading data"
   ]
  },
  {
   "cell_type": "code",
   "execution_count": null,
   "metadata": {},
   "outputs": [],
   "source": [
    "import numpy as np\n",
    "import scipy.io as sio\n",
    "import scipy\n",
    "import matplotlib.pyplot as plt\n",
    "import math\n",
    "%reload_ext autoreload\n",
    "%autoreload 2\n",
    "\n",
    "IMG_SET_ID = 4 # 7\n",
    "path = \"data/\"\n",
    "dist_name = path + \"distances_\" + str(IMG_SET_ID) + \".mat\"\n",
    "PSF_name  = path + \"GaussStd2Color_\" + str(IMG_SET_ID) + \".mat\"\n",
    "PSF_NIR_name = path + \"GaussStd2Nir_\" + str(IMG_SET_ID) + \".mat\"\n",
    "\n",
    "mat_dist = sio.loadmat(dist_name)\n",
    "mat_PSF = sio.loadmat(PSF_name)\n",
    "mat_PSF_NIR = sio.loadmat(PSF_NIR_name)\n",
    "\n",
    "distances = mat_dist['distancesCol']\n",
    "PSF       = mat_PSF['GaussStd2Color']\n",
    "PSF_NIR   = np.squeeze(mat_PSF_NIR['GaussStd2Nir'])\n",
    "PSF[:,3] = PSF_NIR\n",
    "\n",
    "assert distances.shape[0] == PSF.shape[0]\n",
    "assert distances.shape[0] == PSF_NIR.shape[0]\n",
    "print('loaded experimental data from {} distances and {} channels.'.format(*PSF.shape))\n",
    "\n",
    "#distances2 = np.squeeze(distances)\n",
    "#diff_dist = [x - distances2[i - 1] for i, x in enumerate(distances2) if i > 0]\n",
    "#b = np.zeros((50, 2))\n",
    "#b[:,0] = diff_dist\n",
    "#b[:,1] = range(len(diff_dist))\n",
    "#print(b)"
   ]
  },
  {
   "cell_type": "markdown",
   "metadata": {},
   "source": [
    "## Resample data uniformly. "
   ]
  },
  {
   "cell_type": "code",
   "execution_count": null,
   "metadata": {},
   "outputs": [],
   "source": [
    "from aam import make_uniform\n",
    "    \n",
    "plt.plot(distances, PSF, '*') \n",
    "plt.ylabel('Raw Experimental PSF')\n",
    "plt.show()\n",
    "\n",
    "distances_uniform, PSF_uniform = make_uniform(distances, PSF, 'uniform')\n",
    "\n",
    "plt.figure()\n",
    "plt.plot(distances_uniform, PSF_uniform, '*')\n",
    "plt.ylabel('Interpolated PSF')\n",
    "plt.show()\n",
    "\n",
    "# do this for IMG_SET_ID == 4\n",
    "distances_uniform, PSF_uniform = make_uniform(distances, PSF, 'manual')\n",
    "num_samples = 50\n",
    "num_channels = PSF.shape[1]\n",
    "\n",
    "plt.figure()\n",
    "plt.plot(distances_uniform, PSF_uniform, '*')\n",
    "plt.ylabel('Manual resampled PSF')\n",
    "plt.show()"
   ]
  },
  {
   "cell_type": "code",
   "execution_count": null,
   "metadata": {},
   "outputs": [],
   "source": [
    "from aam import polynomial_fitting, get_focus_distances\n",
    "from aam import compute_aam\n",
    "\n",
    "x = np.squeeze(0.001 * distances_uniform)\n",
    "polyParams = polynomial_fitting(x, PSF_uniform)\n",
    "x0 = get_focus_distances(polyParams, bounds=(x[0], x[-1]))\n",
    "print(x0)\n",
    "num_colors = 4\n",
    "num_alphas = 51\n",
    "alphaList = np.linspace(0.2, 0.5, num_alphas)\n",
    "\n",
    "AAM = compute_aam(polyParams[:num_colors, :], x0[:num_colors], alphaList)\n",
    "\n",
    "for i, (alpha, aam) in enumerate(zip(alphaList, AAM)):\n",
    "    if i in [0, np.floor(num_alphas/2), num_alphas-1]:\n",
    "        print('{:2.2f} \\t {:10.2f} \\t'.format(alpha, aam))"
   ]
  },
  {
   "cell_type": "code",
   "execution_count": null,
   "metadata": {},
   "outputs": [],
   "source": []
  },
  {
   "cell_type": "code",
   "execution_count": null,
   "metadata": {},
   "outputs": [],
   "source": []
  }
 ],
 "metadata": {
  "kernelspec": {
   "display_name": "Python 3",
   "language": "python",
   "name": "python3"
  },
  "language_info": {
   "codemirror_mode": {
    "name": "ipython",
    "version": 3
   },
   "file_extension": ".py",
   "mimetype": "text/x-python",
   "name": "python",
   "nbconvert_exporter": "python",
   "pygments_lexer": "ipython3",
   "version": "3.5.2"
  },
  "toc": {
   "nav_menu": {
    "height": "66px",
    "width": "252px"
   },
   "navigate_menu": true,
   "number_sections": true,
   "sideBar": true,
   "threshold": 4,
   "toc_cell": false,
   "toc_section_display": "block",
   "toc_window_display": true
  }
 },
 "nbformat": 4,
 "nbformat_minor": 2
}
