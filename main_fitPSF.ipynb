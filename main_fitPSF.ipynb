{
 "cells": [
  {
   "cell_type": "code",
   "execution_count": 351,
   "metadata": {},
   "outputs": [
    {
     "name": "stdout",
     "output_type": "stream",
     "text": [
      "[1059 1109 1159 1209 1259 1309 1359 1409 1459 1509 1559 1609 1659 1709 1759\n",
      " 1809 1859 1909 1959 2009 2059 2109 2159 2209 2259 2309 2359 2409]\n"
     ]
    }
   ],
   "source": [
    "import numpy as np\n",
    "import scipy.io as sio\n",
    "import scipy\n",
    "import matplotlib.pyplot as plt\n",
    "import math\n",
    "\n",
    "IMG_SET_ID = 7\n",
    "path = \"\"\n",
    "dist_name = path + \"distances_\" + str(IMG_SET_ID) + \".mat\"\n",
    "PSF_name  = path + \"GaussStd2Color_\" + str(IMG_SET_ID) + \".mat\"\n",
    "PSF_NIR_name = path + \"GaussStd2Nir_\" + str(IMG_SET_ID) + \".mat\"\n",
    "\n",
    "mat_dist = sio.loadmat(dist_name)\n",
    "mat_PSF = sio.loadmat(PSF_name)\n",
    "mat_PSF_NIR = sio.loadmat(PSF_NIR_name)\n",
    "\n",
    "distances = mat_dist['distancesCol']\n",
    "PSF       = mat_PSF['GaussStd2Color']\n",
    "PSF_NIR   = mat_PSF_NIR['GaussStd2Nir']\n",
    "\n",
    "#PSF = np.hstack((PSF, np.transpose(PSF_NIR)))\n",
    "PSF[:,3] = PSF_NIR\n",
    "\n",
    "distances2 = np.squeeze(distances)\n",
    "diff_dist = [x - distances2[i - 1] for i, x in enumerate(distances2) if i > 0]\n",
    "print(distances2)\n",
    "#b = np.zeros((50, 2))\n",
    "#b[:,0] = diff_dist\n",
    "#b[:,1] = range(len(diff_dist))\n",
    "#print(b)"
   ]
  },
  {
   "cell_type": "code",
   "execution_count": 352,
   "metadata": {},
   "outputs": [
    {
     "data": {
      "image/png": "[encoded data removed]",
      "text/plain": [
       "<matplotlib.figure.Figure at 0x7ff6287e9750>"
      ]
     },
     "metadata": {},
     "output_type": "display_data"
    }
   ],
   "source": [
    "#plt.plot(distances, PSF[:,channelIdx], 'g^')\n",
    "#plt.ylabel('Experimental PSF')\n",
    "#plt.show()\n",
    "\n",
    "\n",
    "INDICES_4 = np.array([-1, 0, 1, 2, 3, 4, 5, 6, 7, 9, 13, 17, 19, 20, 21, 22, 23, 24, 25, 27, 31, 35, 37, 38, 39, 40, 41, 42, 43, 44, 45, 46, 47, 48, 49])\n",
    "INDICES_4 += 1\n",
    "\n",
    "\n",
    "if IMG_SET_ID == 4:\n",
    "    PSF_uniform = np.zeros((len(INDICES_4),4))\n",
    "    distances_uniform = np.zeros((len(INDICES_4),1))\n",
    "    idx_uniform = 0\n",
    "    for idx in range(len(INDICES_4)):\n",
    "        PSF_uniform[idx,:] = PSF[ INDICES_4[idx], : ]\n",
    "        distances_uniform[idx] = distances[ INDICES_4[idx] ]\n",
    "\n",
    "if IMG_SET_ID == 6:\n",
    "    PSF_uniform = PSF\n",
    "    distances_uniform = distances\n",
    "\n",
    "if IMG_SET_ID == 7:\n",
    "    PSF_uniform = PSF\n",
    "    distances_uniform = distances\n",
    "    \n",
    "\n",
    "plt.plot(distances_uniform, PSF_uniform[:,0], 'r^')\n",
    "plt.plot(distances_uniform, PSF_uniform[:,1], 'g^')\n",
    "plt.plot(distances_uniform, PSF_uniform[:,2], 'b^')\n",
    "plt.plot(distances_uniform, PSF_uniform[:,3], 'k^')\n",
    "plt.ylabel('Uniform Experimental PSF')\n",
    "plt.show()\n",
    "            \n"
   ]
  },
  {
   "cell_type": "code",
   "execution_count": 353,
   "metadata": {},
   "outputs": [
    {
     "data": {
      "image/png": "[encoded data removed]",
      "text/plain": [
       "<matplotlib.figure.Figure at 0x7ff6286ebb50>"
      ]
     },
     "metadata": {},
     "output_type": "display_data"
    },
    {
     "name": "stdout",
     "output_type": "stream",
     "text": [
      "[0.20000000000000001, 1.1930309648392832]\n",
      "[0.35306122448979593, 0.65789059828847485]\n",
      "[0.5, 0.33245091634614021]\n"
     ]
    }
   ],
   "source": [
    "# Polynomial fitting:\n",
    "x = np.squeeze(0.001*distances_uniform)\n",
    "deg = 4\n",
    "N = 3\n",
    "polyParams = np.zeros((N,deg+1))\n",
    "for channelIdx in range(N):\n",
    "    polyParams[channelIdx, :] = np.polyfit(x, PSF_uniform[:, channelIdx], deg)\n",
    "\n",
    "#print(polyParams)\n",
    "\n",
    "# Finding x0\n",
    "x0 = np.zeros(N)\n",
    "for channelIdx in range(N):\n",
    "    f = np.poly1d( polyParams[channelIdx, :] )\n",
    "    result = scipy.optimize.minimize_scalar(f, bounds=(x[0], x[-1]), method='bounded')\n",
    "    x0[channelIdx] = result.x\n",
    "\n",
    "#print(x0)\n",
    "\n",
    "# Computing c_ij & d_ij\n",
    "c_ij = np.zeros((int(0.5*N*(N-1)),deg+1))\n",
    "d = np.zeros((int(0.5*N*(N-1)),2*deg+1))\n",
    "duo = 0 #corresponds to ij pairs in vectorized form\n",
    "for i in range(N):\n",
    "    for j in range(i+1,N):\n",
    "        c_ij[duo, :] = polyParams[i, :] - polyParams[j, :]\n",
    "        for k in range(2*deg+1):\n",
    "            d[duo, k] = 0\n",
    "            for u in range(deg+1):\n",
    "                for v in range(deg+1):\n",
    "                    if u+v == k:\n",
    "                        d[duo, k] += c_ij[duo, u] * c_ij[duo, v]\n",
    "        duo += 1\n",
    "        \n",
    "\n",
    "#print(c_ij)\n",
    "#print(d)\n",
    "\n",
    "\n",
    "\n",
    "\n",
    "# Compute the AAP for varying alpha\n",
    "alphaLIST = np.linspace(0.2, 0.5, 50)\n",
    "AAP = np.zeros(len(alphaLIST))\n",
    "# B_ij  RG   RB   RN   GB   GN   BN\n",
    "B_ij = [0.2, 0.3, 0.4, 0.2, 0.5, 0.6]\n",
    "if N == 3:\n",
    "    # B_ij  RG   RB   GB\n",
    "    B_ij = [0.2, 0.3, 0.2]\n",
    "\n",
    "for alphaIdx in range(len(alphaLIST)):\n",
    "    # Computing delta_alpha bar\n",
    "    alpha = alphaLIST[alphaIdx]\n",
    "    delta = np.zeros(int(0.5*N*(N-1)))\n",
    "    a_ij = np.zeros(int(0.5*N*(N-1)))\n",
    "    b_ij = np.zeros(int(0.5*N*(N-1)))\n",
    "    duo = 0 #corresponds to ij pairs in vectorized form\n",
    "    for i in range(N):\n",
    "        for j in range(i+1,N):\n",
    "            a_ij[duo] = (1-alpha) * min( x0[i], x0[j] )\n",
    "            b_ij[duo] = (1+alpha) * max( x0[i], x0[j] )\n",
    "\n",
    "            for k in range(1, 2*deg+1+1):\n",
    "                delta[duo] += d[duo, k-1] * (b_ij[duo]**k - a_ij[duo]**k) / k\n",
    "\n",
    "            delta[duo] = delta[duo] / (b_ij[duo] - a_ij[duo])\n",
    "\n",
    "            duo += 1\n",
    "\n",
    "\n",
    "    for duo in range(int(0.5*N*(N-1))):\n",
    "            AAP[alphaIdx] += B_ij[duo] * (b_ij[duo] - a_ij[duo]) / delta[duo]\n",
    "\n",
    "    AAP[alphaIdx] = 100000 * AAP[alphaIdx] * 2 / (N*(N-1))\n",
    "    #AAP[alphaIdx] = np.log( AAP[alphaIdx] )\n",
    "\n",
    "\n",
    "\n",
    "plt.plot(alphaLIST, AAP, 'r^', label=\"y reconst\")\n",
    "plt.ylabel('AAP')\n",
    "plt.xlabel('alpha')\n",
    "plt.show()\n",
    "\n",
    "print([alphaLIST[0], AAP[0]])\n",
    "print([alphaLIST[25], AAP[25]])\n",
    "print([alphaLIST[49], AAP[49]])\n"
   ]
  },
  {
   "cell_type": "code",
   "execution_count": 254,
   "metadata": {},
   "outputs": [
    {
     "data": {
      "image/png": "[encoded data removed]",
      "text/plain": [
       "<matplotlib.figure.Figure at 0x7ff6285e1f10>"
      ]
     },
     "metadata": {},
     "output_type": "display_data"
    }
   ],
   "source": [
    "\n",
    "y_poly = sum(coef * x**exp for exp, coef in enumerate(reversed(polyParams[1, :])))\n",
    "#for exp, coef in enumerate(reversed(polyParams)):\n",
    "#    print(exp,coef)\n",
    "\n",
    "plt.plot(x, y_poly, 'r^', label=\"y reconst\")\n",
    "plt.plot(x, y, 'g^', label=\"y\")\n",
    "plt.ylabel('Experimental PSF')\n",
    "plt.legend()\n",
    "plt.show()"
   ]
  },
  {
   "cell_type": "code",
   "execution_count": 187,
   "metadata": {},
   "outputs": [
    {
     "name": "stdout",
     "output_type": "stream",
     "text": [
      "[  1.18181103e+05   1.24817335e+00   1.24714040e+00  -2.10215812e-01]\n"
     ]
    },
    {
     "data": {
      "image/png": "[encoded data removed]",
      "text/plain": [
       "<matplotlib.figure.Figure at 0x7ff6288be750>"
      ]
     },
     "metadata": {},
     "output_type": "display_data"
    }
   ],
   "source": [
    "from scipy.optimize import curve_fit\n",
    "\n",
    "def fit_PSF_func(x, L, d, f, c):\n",
    "    return np.transpose(np.array(  (L * abs( 1 - d/f + d/x ) + c)  ))[0]\n",
    "\n",
    "x = distances_uniform\n",
    "y = PSF_uniform[:, channelIdx]\n",
    "\n",
    "#params = curve_fit(fit_PSF_func, x, y, p0=(140989., 1.055, 1.054, 2.054))\n",
    "#params = curve_fit(fit_PSF_func, x, y, bounds=((0,0,0,-np.inf),(np.inf, np.inf, np.inf, np.inf)), p0=(140989., 1.055, 1.054, 2.054))\n",
    "params = curve_fit(fit_PSF_func, x, y, bounds=((0,0,0,-np.inf),(np.inf, np.inf, np.inf, np.inf)), p0=(70989., 1.055, 1.054, 2.054))\n",
    "\n",
    "simpleLensParams = params[0]\n",
    "PSF_fitted = fit_PSF_func(x, simpleLensParams[0], simpleLensParams[1], simpleLensParams[2], simpleLensParams[3])\n",
    "\n",
    "#PARAMS_GREEN_SET4 = [1.30744663e+05   1.12823345e+00   1.12738942e+00  -2.10215811e-01]\n",
    "print(simpleLensParams)\n",
    "\n",
    "\n",
    "\n",
    "err_fit = np.linalg.norm(PSF_fitted - y)\n",
    "plt.plot(x, PSF_fitted, 'g^', label=str(err_fit))\n",
    "plt.plot(x, y, 'k^')\n",
    "plt.ylabel('Experimental PSF')\n",
    "plt.legend()\n",
    "plt.show()\n",
    "\n"
   ]
  },
  {
   "cell_type": "code",
   "execution_count": null,
   "metadata": {},
   "outputs": [],
   "source": [
    "from scipy.optimize import least_squares\n",
    "from scipy.optimize import leastsq\n",
    "\n",
    "def fit_PSF_loss(opt_vector, x, y):\n",
    "    L, d, f = opt_vector\n",
    "    #return L * abs( 1 - d/f + d/x )\n",
    "    y_fit = (L * abs( 1 - d/f + d/x ))\n",
    "    diff  = y_fit.reshape((-1,)) - y\n",
    "    return diff\n",
    "\n",
    "channelIdx = 4\n",
    "\n",
    "x = distances\n",
    "y = PSF[:, channelIdx]\n",
    "x0 = np.array([1, 2, 3])\n",
    "params = leastsq(fit_PSF_loss, x0=x0, args=(x,y), xtol=1e-15)\n",
    "simpleLensParams = params[0]\n",
    "\n",
    "#PSF_fitted = fit_PSF_func(distances, simpleLensParams[0], simpleLensParams[1], simpleLensParams[2])\n",
    "\n",
    "plt.plot(distances, PSF_fitted, 'g^')\n",
    "plt.ylabel('Experimental PSF')\n",
    "plt.show()\n"
   ]
  }
 ],
 "metadata": {
  "kernelspec": {
   "display_name": "Python 2",
   "language": "python",
   "name": "python2"
  },
  "language_info": {
   "codemirror_mode": {
    "name": "ipython",
    "version": 2
   },
   "file_extension": ".py",
   "mimetype": "text/x-python",
   "name": "python",
   "nbconvert_exporter": "python",
   "pygments_lexer": "ipython2",
   "version": "2.7.12"
  }
 },
 "nbformat": 4,
 "nbformat_minor": 2
}
