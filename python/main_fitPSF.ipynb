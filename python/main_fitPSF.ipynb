{
 "cells": [
  {
   "cell_type": "markdown",
   "metadata": {},
   "source": [
    "# AAM Demo Script\n",
    "\n",
    "In this demo script, we first introduce the AAM calculation pipeline step by step in tutorial style. It is a compliment to the paper and is provided to ensure reproducibility of the results. \n",
    "\n",
    "## Initialize and load data\n",
    "\n",
    "The dataset used here is described in the paper. It can be replaced by your own data, with only a few slight modifications to the code. "
   ]
  },
  {
   "cell_type": "code",
   "execution_count": null,
   "metadata": {},
   "outputs": [],
   "source": [
    "import numpy as np\n",
    "import scipy.io as sio\n",
    "import scipy\n",
    "import matplotlib.pyplot as plt\n",
    "import math\n",
    "%reload_ext autoreload\n",
    "%autoreload 2\n",
    "\n",
    "# Choose camera\n",
    "IMG_SET_ID = 4 # Canon EF 50mm f/2.5\n",
    "#IMG_SET_ID = 7 # Canon EF 50mm f/1.8 I\n",
    "\n",
    "# Load data\n",
    "path = \"../data/\"\n",
    "dist_name = path + \"distances_\" + str(IMG_SET_ID) + \".mat\"\n",
    "PSF_name  = path + \"GaussStd2Color_\" + str(IMG_SET_ID) + \".mat\"\n",
    "PSF_NIR_name = path + \"GaussStd2Nir_\" + str(IMG_SET_ID) + \".mat\"\n",
    "\n",
    "mat_dist = sio.loadmat(dist_name)\n",
    "mat_PSF = sio.loadmat(PSF_name)\n",
    "mat_PSF_NIR = sio.loadmat(PSF_NIR_name)\n",
    "\n",
    "distances = mat_dist['distancesCol']\n",
    "PSF       = mat_PSF['GaussStd2Color']\n",
    "PSF_NIR   = np.squeeze(mat_PSF_NIR['GaussStd2Nir'])\n",
    "PSF[:,3] = PSF_NIR\n",
    "\n",
    "assert distances.shape[0] == PSF.shape[0]\n",
    "assert distances.shape[0] == PSF_NIR.shape[0]\n",
    "print('loaded experimental data from {} distances and {} channels.'.format(*PSF.shape))"
   ]
  },
  {
   "cell_type": "markdown",
   "metadata": {},
   "source": [
    "## Resample data uniformly. \n",
    "\n",
    "For the polynomial fitting to work correctly, we need to resample the experimental, non-uniform data of our camera with IMG_SET_ID 4. Two methods are proposed, an automatic method and a manual method. The results are shown below. In practice, we use the manual method , since it is close to the actual measurements (no interpolation required) and thus more accurate. "
   ]
  },
  {
   "cell_type": "code",
   "execution_count": null,
   "metadata": {},
   "outputs": [],
   "source": [
    "from aam import make_uniform\n",
    "    \n",
    "plt.plot(distances, PSF, '*') \n",
    "plt.ylabel('Raw Experimental PSF')\n",
    "plt.show()\n",
    "\n",
    "distances_uniform, PSF_uniform = make_uniform(distances, PSF, 'uniform')\n",
    "\n",
    "plt.figure()\n",
    "plt.plot(distances_uniform, PSF_uniform, '*')\n",
    "plt.ylabel('Interpolated PSF')\n",
    "plt.show()\n",
    "\n",
    "if IMG_SET_ID == 4:\n",
    "    distances_uniform, PSF_uniform = make_uniform(distances, PSF, 'manual')\n",
    "\n",
    "    plt.figure()\n",
    "    plt.plot(distances_uniform, PSF_uniform, '*')\n",
    "    plt.ylabel('Manually resampled PSF')\n",
    "    plt.show()\n",
    "\n",
    "# No resampling is required for camera 7, since the data is \n",
    "# already approximately uniform.\n",
    "if IMG_SET_ID == 7:\n",
    "    distances_uniform = distances\n",
    "    PSF_uniform = PSF"
   ]
  },
  {
   "cell_type": "markdown",
   "metadata": {},
   "source": [
    "## Polynomial fitting\n",
    "\n",
    "In order to simplify the calculation of the error metric, we fit a polynomial of degree 5 to the PSF curves. The below two cells visualize the results without noise (first cell) and with noise (second cell), proving the robustness of the polynomial fitting to noise. "
   ]
  },
  {
   "cell_type": "code",
   "execution_count": null,
   "metadata": {},
   "outputs": [],
   "source": [
    "from aam import polynomial_fitting, get_focus_distances\n",
    "\n",
    "def plot_fitting(polyParams, x0, PSF):\n",
    "    plt.figure()\n",
    "    for i in range(polyParams.shape[0]):\n",
    "        f = np.poly1d(polyParams[i])\n",
    "        p = plt.plot(x, f(x) , '-')\n",
    "        color = p[0].get_color()\n",
    "        plt.plot(x, PSF[:, i], '*', color=color)\n",
    "        plt.vlines(x0[i],ymin=0, ymax=60, color=color)\n",
    "    plt.xlabel('distance [m]')\n",
    "    plt.ylabel('PSF original and resampled')\n",
    "    plt.show()\n",
    "\n",
    "scaling = 1000\n",
    "x = np.squeeze(distances_uniform/scaling)\n",
    "\n",
    "polyParams = polynomial_fitting(x, PSF_uniform, degree=5)\n",
    "x0 = get_focus_distances(polyParams, bounds=(x[0], x[-1]))\n",
    "plot_fitting(polyParams, x0, PSF_uniform)"
   ]
  },
  {
   "cell_type": "code",
   "execution_count": null,
   "metadata": {},
   "outputs": [],
   "source": [
    "# polynomial fitting with added noise. \n",
    "PSF_uniform_noisy = PSF_uniform.copy()\n",
    "sigma_noise = 1e-3\n",
    "PSF_uniform_noisy += np.random.normal(scale=sigma_noise*PSF_uniform, size=PSF_uniform.shape)\n",
    "polyParams_noisy = polynomial_fitting(x, PSF_uniform_noisy, degree=5)\n",
    "x0_noisy = get_focus_distances(polyParams_noisy, bounds=(x[0], x[-1]))\n",
    "plot_fitting(polyParams_noisy, x0_noisy, PSF_uniform_noisy)"
   ]
  },
  {
   "cell_type": "markdown",
   "metadata": {},
   "source": [
    "## Compute AAM\n",
    "\n",
    "Given the polynomial fittings of all PSF curves, we can compute the AAM. "
   ]
  },
  {
   "cell_type": "code",
   "execution_count": null,
   "metadata": {},
   "outputs": [],
   "source": [
    "from aam import compute_aam\n",
    "\n",
    "num_colors = 4\n",
    "num_alphas = 51\n",
    "alphaList = np.linspace(0.2, 0.5, num_alphas)\n",
    "AAM = compute_aam(polyParams[:num_colors, :], x0[:num_colors], alphaList)\n",
    "\n",
    "plt.plot(alphaList, AAM)\n",
    "plt.xlabel('alpha'); plt.ylabel('AAM');\n",
    "plt.title('AAM metric for different values of alpha')\n",
    "plt.show()"
   ]
  },
  {
   "cell_type": "markdown",
   "metadata": {},
   "source": [
    "## Evaluation of alpha sensitivity\n",
    "\n",
    "Now that we have introduced the pipeline for computing the AAM error metric,\n",
    "we apply the pipeline for different values of alpha. The results for the two cameras are shown below, the discussion of the results\n",
    "can be found in the paper."
   ]
  },
  {
   "cell_type": "code",
   "execution_count": null,
   "metadata": {},
   "outputs": [],
   "source": [
    "from pipeline import pipeline\n",
    "from math import floor\n",
    "\n",
    "def make_table(alphas, aams):\n",
    "    num_alphas = len(alphas)\n",
    "    indices = (0, floor(num_alphas / 2.0), num_alphas-1)\n",
    "    alphas_table = [alphas[ind] for ind in indices]\n",
    "    aams_table = [aams[ind] for ind in indices]\n",
    "    print('\\\\alpha \\t & AAM \\\\\\\\')\n",
    "    for alpha, aam in zip(alphas_table, aams_table):\n",
    "        print('{:2.2f} \\t & {:8.2f} \\\\\\\\'.format(alpha, aam))\n",
    "    return\n",
    "\n",
    "alphaList, AAM = pipeline(IMG_SET_ID = 4, scale=1e-2, num_colors=4, degree=5)\n",
    "make_table(alphaList, AAM)\n",
    "\n",
    "alphaList, AAM = pipeline(IMG_SET_ID = 7, scale=1e-2, num_colors=4, degree=5)\n",
    "make_table(alphaList, AAM)"
   ]
  },
  {
   "cell_type": "code",
   "execution_count": null,
   "metadata": {},
   "outputs": [],
   "source": [
    "alphaList, AAM = pipeline(IMG_SET_ID = 4, scale=1e-2, num_colors=3, degree=5)\n",
    "make_table(alphaList, AAM)\n",
    "alphaList, AAM = pipeline(IMG_SET_ID = 7, scale=1e-2, num_colors=3, degree=5)\n",
    "make_table(alphaList, AAM)"
   ]
  },
  {
   "cell_type": "code",
   "execution_count": null,
   "metadata": {},
   "outputs": [],
   "source": []
  }
 ],
 "metadata": {
  "kernelspec": {
   "display_name": "Python 3",
   "language": "python",
   "name": "python3"
  },
  "language_info": {
   "codemirror_mode": {
    "name": "ipython",
    "version": 3
   },
   "file_extension": ".py",
   "mimetype": "text/x-python",
   "name": "python",
   "nbconvert_exporter": "python",
   "pygments_lexer": "ipython3",
   "version": "3.5.2"
  },
  "toc": {
   "nav_menu": {
    "height": "66px",
    "width": "252px"
   },
   "navigate_menu": true,
   "number_sections": true,
   "sideBar": true,
   "threshold": 4,
   "toc_cell": false,
   "toc_section_display": "block",
   "toc_window_display": true
  }
 },
 "nbformat": 4,
 "nbformat_minor": 2
}
